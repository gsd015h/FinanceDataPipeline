{
 "cells": [
  {
   "cell_type": "code",
   "execution_count": null,
   "metadata": {},
   "outputs": [],
   "source": [
    "import pandas as pd\n",
    "import pandas as pd\n",
    "import numpy as np\n",
    "from statsmodels.tsa.holtwinters import ExponentialSmoothing\n",
    "from statsmodels.tools.sm_exceptions import ConvergenceWarning\n",
    "import warnings\n"
   ]
  },
  {
   "cell_type": "code",
   "execution_count": 2,
   "metadata": {},
   "outputs": [
    {
     "data": {
      "text/html": [
       "<div>\n",
       "<style scoped>\n",
       "    .dataframe tbody tr th:only-of-type {\n",
       "        vertical-align: middle;\n",
       "    }\n",
       "\n",
       "    .dataframe tbody tr th {\n",
       "        vertical-align: top;\n",
       "    }\n",
       "\n",
       "    .dataframe thead th {\n",
       "        text-align: right;\n",
       "    }\n",
       "</style>\n",
       "<table border=\"1\" class=\"dataframe\">\n",
       "  <thead>\n",
       "    <tr style=\"text-align: right;\">\n",
       "      <th></th>\n",
       "      <th>Sr</th>\n",
       "      <th>ID</th>\n",
       "      <th>Customer</th>\n",
       "      <th>Primary Sales</th>\n",
       "      <th>Cancelled</th>\n",
       "      <th>Is added to primary log</th>\n",
       "      <th>Against Expiry</th>\n",
       "      <th>Breakage</th>\n",
       "      <th>Claim Offer</th>\n",
       "      <th>Quantity</th>\n",
       "      <th>...</th>\n",
       "      <th>Free Item</th>\n",
       "      <th>HQ</th>\n",
       "      <th>Sales Team</th>\n",
       "      <th>Return for Reason</th>\n",
       "      <th>Sales Return</th>\n",
       "      <th>Sales Invoice Name</th>\n",
       "      <th>Rate Difference</th>\n",
       "      <th>Item Name</th>\n",
       "      <th>Free Item Value</th>\n",
       "      <th>Date</th>\n",
       "    </tr>\n",
       "  </thead>\n",
       "  <tbody>\n",
       "    <tr>\n",
       "      <th>0</th>\n",
       "      <td>9354</td>\n",
       "      <td>SL-10-24-268441</td>\n",
       "      <td>SESHABALAJEE MEDISOLUTIONS PVT LTD</td>\n",
       "      <td>135.08</td>\n",
       "      <td>1</td>\n",
       "      <td>1</td>\n",
       "      <td>135.08</td>\n",
       "      <td>0.0</td>\n",
       "      <td>0.0</td>\n",
       "      <td>-4</td>\n",
       "      <td>...</td>\n",
       "      <td>0</td>\n",
       "      <td>HQ-Vizag</td>\n",
       "      <td>Elbrit AP</td>\n",
       "      <td>Expired</td>\n",
       "      <td>0.0</td>\n",
       "      <td>SINV-24-01509</td>\n",
       "      <td>0.0</td>\n",
       "      <td>TELBRIT 20</td>\n",
       "      <td>0.0</td>\n",
       "      <td>2024-09-23</td>\n",
       "    </tr>\n",
       "    <tr>\n",
       "      <th>1</th>\n",
       "      <td>9355</td>\n",
       "      <td>SL-10-24-268440</td>\n",
       "      <td>SESHABALAJEE MEDISOLUTIONS PVT LTD</td>\n",
       "      <td>413.80</td>\n",
       "      <td>1</td>\n",
       "      <td>1</td>\n",
       "      <td>413.80</td>\n",
       "      <td>0.0</td>\n",
       "      <td>0.0</td>\n",
       "      <td>-4</td>\n",
       "      <td>...</td>\n",
       "      <td>0</td>\n",
       "      <td>HQ-Vizag</td>\n",
       "      <td>Elbrit AP</td>\n",
       "      <td>Expired</td>\n",
       "      <td>0.0</td>\n",
       "      <td>SINV-24-01509</td>\n",
       "      <td>0.0</td>\n",
       "      <td>DAFAX M 5</td>\n",
       "      <td>0.0</td>\n",
       "      <td>2024-09-23</td>\n",
       "    </tr>\n",
       "    <tr>\n",
       "      <th>2</th>\n",
       "      <td>9356</td>\n",
       "      <td>SL-10-24-268439</td>\n",
       "      <td>SESHABALAJEE MEDISOLUTIONS PVT LTD</td>\n",
       "      <td>210.38</td>\n",
       "      <td>1</td>\n",
       "      <td>1</td>\n",
       "      <td>210.38</td>\n",
       "      <td>0.0</td>\n",
       "      <td>0.0</td>\n",
       "      <td>-2</td>\n",
       "      <td>...</td>\n",
       "      <td>0</td>\n",
       "      <td>HQ-Vizag</td>\n",
       "      <td>Elbrit AP</td>\n",
       "      <td>Expired</td>\n",
       "      <td>0.0</td>\n",
       "      <td>SINV-24-01509</td>\n",
       "      <td>0.0</td>\n",
       "      <td>TELBRIT AM</td>\n",
       "      <td>0.0</td>\n",
       "      <td>2024-09-23</td>\n",
       "    </tr>\n",
       "    <tr>\n",
       "      <th>3</th>\n",
       "      <td>9357</td>\n",
       "      <td>SL-10-24-268438</td>\n",
       "      <td>SESHABALAJEE MEDISOLUTIONS PVT LTD</td>\n",
       "      <td>105.19</td>\n",
       "      <td>1</td>\n",
       "      <td>1</td>\n",
       "      <td>105.19</td>\n",
       "      <td>0.0</td>\n",
       "      <td>0.0</td>\n",
       "      <td>-1</td>\n",
       "      <td>...</td>\n",
       "      <td>0</td>\n",
       "      <td>HQ-Vizag</td>\n",
       "      <td>Elbrit AP</td>\n",
       "      <td>Expired</td>\n",
       "      <td>0.0</td>\n",
       "      <td>SINV-24-01509</td>\n",
       "      <td>0.0</td>\n",
       "      <td>TELBRIT H</td>\n",
       "      <td>0.0</td>\n",
       "      <td>2024-09-23</td>\n",
       "    </tr>\n",
       "    <tr>\n",
       "      <th>4</th>\n",
       "      <td>9358</td>\n",
       "      <td>SL-10-24-268437</td>\n",
       "      <td>SESHABALAJEE MEDISOLUTIONS PVT LTD</td>\n",
       "      <td>978.30</td>\n",
       "      <td>1</td>\n",
       "      <td>1</td>\n",
       "      <td>978.30</td>\n",
       "      <td>0.0</td>\n",
       "      <td>0.0</td>\n",
       "      <td>-9</td>\n",
       "      <td>...</td>\n",
       "      <td>0</td>\n",
       "      <td>HQ-Vizag</td>\n",
       "      <td>Elbrit AP</td>\n",
       "      <td>Expired</td>\n",
       "      <td>0.0</td>\n",
       "      <td>SINV-24-01509</td>\n",
       "      <td>0.0</td>\n",
       "      <td>TRIGLIMIBRIT 1.3</td>\n",
       "      <td>0.0</td>\n",
       "      <td>2024-09-23</td>\n",
       "    </tr>\n",
       "  </tbody>\n",
       "</table>\n",
       "<p>5 rows × 21 columns</p>\n",
       "</div>"
      ],
      "text/plain": [
       "     Sr               ID                            Customer  Primary Sales  \\\n",
       "0  9354  SL-10-24-268441  SESHABALAJEE MEDISOLUTIONS PVT LTD         135.08   \n",
       "1  9355  SL-10-24-268440  SESHABALAJEE MEDISOLUTIONS PVT LTD         413.80   \n",
       "2  9356  SL-10-24-268439  SESHABALAJEE MEDISOLUTIONS PVT LTD         210.38   \n",
       "3  9357  SL-10-24-268438  SESHABALAJEE MEDISOLUTIONS PVT LTD         105.19   \n",
       "4  9358  SL-10-24-268437  SESHABALAJEE MEDISOLUTIONS PVT LTD         978.30   \n",
       "\n",
       "   Cancelled  Is added to primary log  Against Expiry  Breakage  Claim Offer  \\\n",
       "0          1                        1          135.08       0.0          0.0   \n",
       "1          1                        1          413.80       0.0          0.0   \n",
       "2          1                        1          210.38       0.0          0.0   \n",
       "3          1                        1          105.19       0.0          0.0   \n",
       "4          1                        1          978.30       0.0          0.0   \n",
       "\n",
       "   Quantity  ...  Free Item        HQ Sales Team Return for Reason  \\\n",
       "0        -4  ...          0  HQ-Vizag  Elbrit AP           Expired   \n",
       "1        -4  ...          0  HQ-Vizag  Elbrit AP           Expired   \n",
       "2        -2  ...          0  HQ-Vizag  Elbrit AP           Expired   \n",
       "3        -1  ...          0  HQ-Vizag  Elbrit AP           Expired   \n",
       "4        -9  ...          0  HQ-Vizag  Elbrit AP           Expired   \n",
       "\n",
       "  Sales Return  Sales Invoice Name Rate Difference         Item Name  \\\n",
       "0          0.0       SINV-24-01509             0.0        TELBRIT 20   \n",
       "1          0.0       SINV-24-01509             0.0         DAFAX M 5   \n",
       "2          0.0       SINV-24-01509             0.0        TELBRIT AM   \n",
       "3          0.0       SINV-24-01509             0.0         TELBRIT H   \n",
       "4          0.0       SINV-24-01509             0.0  TRIGLIMIBRIT 1.3   \n",
       "\n",
       "  Free Item Value       Date  \n",
       "0             0.0 2024-09-23  \n",
       "1             0.0 2024-09-23  \n",
       "2             0.0 2024-09-23  \n",
       "3             0.0 2024-09-23  \n",
       "4             0.0 2024-09-23  \n",
       "\n",
       "[5 rows x 21 columns]"
      ]
     },
     "execution_count": 2,
     "metadata": {},
     "output_type": "execute_result"
    }
   ],
   "source": [
    "# Load the data from the primary sheet\n",
    "data = pd.read_excel('ELB-Sales-Data.xlsx', sheet_name='Elbrit Sales Log')\n",
    "\n",
    "# Display the first few rows of the data to understand its structure and identify relevant columns\n",
    "data.head()\n"
   ]
  },
  {
   "cell_type": "code",
   "execution_count": 3,
   "metadata": {},
   "outputs": [
    {
     "data": {
      "text/plain": [
       "Index(['Sr', 'ID', 'Customer', 'Primary Sales', 'Cancelled',\n",
       "       'Is added to primary log', 'Against Expiry', 'Breakage', 'Claim Offer',\n",
       "       'Quantity', 'Net Rate', 'Free Item', 'HQ', 'Sales Team',\n",
       "       'Return for Reason', 'Sales Return', 'Sales Invoice Name',\n",
       "       'Rate Difference', 'Item Name', 'Free Item Value', 'Date'],\n",
       "      dtype='object')"
      ]
     },
     "execution_count": 3,
     "metadata": {},
     "output_type": "execute_result"
    }
   ],
   "source": [
    "data.columns"
   ]
  },
  {
   "cell_type": "markdown",
   "metadata": {},
   "source": [
    "### 1. What was the highest-selling product in September?\n",
    "---"
   ]
  },
  {
   "cell_type": "code",
   "execution_count": 4,
   "metadata": {},
   "outputs": [
    {
     "data": {
      "text/plain": [
       "Item Name\n",
       "ACEBRIT MR         18514.80\n",
       "ACEBRIT P          63959.76\n",
       "AMOXIBRIT 625     329224.74\n",
       "ARNIBLOC 100      162966.70\n",
       "ARNIBLOC 50       381422.54\n",
       "                    ...    \n",
       "VEINEX            278814.15\n",
       "VILZATO 100 OD     20047.23\n",
       "VILZATO 50        249651.99\n",
       "VILZATO M 1000      7456.80\n",
       "VILZATO M 500     429683.93\n",
       "Name: Primary Sales, Length: 186, dtype: float64"
      ]
     },
     "execution_count": 4,
     "metadata": {},
     "output_type": "execute_result"
    }
   ],
   "source": [
    "# Convert the 'Date' column to datetime for filtering\n",
    "\n",
    "data['Date'] = pd.to_datetime(data['Date'])\n",
    "\n",
    "# Filter data for September 2024\n",
    "\n",
    "september_data = data[(data['Date'].dt.month == 9) & (data['Date'].dt.year == 2024)]\n",
    "\n",
    "# Group the September data by 'Item Name' and sum the 'Primary Sales'\n",
    "\n",
    "highest_selling_product_sept = september_data.groupby('Item Name')['Primary Sales'].sum()\n",
    "\n",
    "highest_selling_product_sept\n"
   ]
  },
  {
   "cell_type": "code",
   "execution_count": 5,
   "metadata": {},
   "outputs": [
    {
     "data": {
      "text/plain": [
       "('NEURONZ D', np.float64(2308078.58))"
      ]
     },
     "execution_count": 5,
     "metadata": {},
     "output_type": "execute_result"
    }
   ],
   "source": [
    "# Identify the product with the highest sales\n",
    "\n",
    "highest_selling_product_sept_name = highest_selling_product_sept.idxmax()\n",
    "\n",
    "highest_selling_product_sept_value = highest_selling_product_sept.max()\n",
    "\n",
    "highest_selling_product_sept_name,highest_selling_product_sept_value"
   ]
  },
  {
   "cell_type": "markdown",
   "metadata": {},
   "source": [
    "### 2. Which product had the highest sales for the \"CND Chennai\" sales team in May?\n",
    "---"
   ]
  },
  {
   "cell_type": "code",
   "execution_count": 6,
   "metadata": {},
   "outputs": [
    {
     "data": {
      "text/plain": [
       "'NEURONZ D'"
      ]
     },
     "execution_count": 6,
     "metadata": {},
     "output_type": "execute_result"
    }
   ],
   "source": [
    "# 2. Highest sales by \"CND Chennai\" sales team in May\n",
    "\n",
    "may_data = data[(data['Date'].dt.month == 5) & (data['Date'].dt.year == 2024)]\n",
    "\n",
    "cnd_chennai_data = may_data[may_data['Sales Team'] == 'CND Chennai']\n",
    "\n",
    "highest_sales_cnd_chennai_may = cnd_chennai_data.groupby('Item Name')['Primary Sales'].sum().idxmax()\n",
    "\n",
    "highest_sales_cnd_chennai_may\n"
   ]
  },
  {
   "cell_type": "markdown",
   "metadata": {},
   "source": [
    "### 3. Which customer had the maximum stock returns in October for the Bangalore HQ?\n",
    "---"
   ]
  },
  {
   "cell_type": "markdown",
   "metadata": {},
   "source": [
    "#### Note: The data is available only up to September, so it is not possible to calculate Question 3. If you have the October data, simply uncomment `max_stock_returns_customer_oct` and run the script to obtain the October results."
   ]
  },
  {
   "cell_type": "code",
   "execution_count": 7,
   "metadata": {},
   "outputs": [
    {
     "data": {
      "text/html": [
       "<div>\n",
       "<style scoped>\n",
       "    .dataframe tbody tr th:only-of-type {\n",
       "        vertical-align: middle;\n",
       "    }\n",
       "\n",
       "    .dataframe tbody tr th {\n",
       "        vertical-align: top;\n",
       "    }\n",
       "\n",
       "    .dataframe thead th {\n",
       "        text-align: right;\n",
       "    }\n",
       "</style>\n",
       "<table border=\"1\" class=\"dataframe\">\n",
       "  <thead>\n",
       "    <tr style=\"text-align: right;\">\n",
       "      <th></th>\n",
       "      <th>Sr</th>\n",
       "      <th>ID</th>\n",
       "      <th>Customer</th>\n",
       "      <th>Primary Sales</th>\n",
       "      <th>Cancelled</th>\n",
       "      <th>Is added to primary log</th>\n",
       "      <th>Against Expiry</th>\n",
       "      <th>Breakage</th>\n",
       "      <th>Claim Offer</th>\n",
       "      <th>Quantity</th>\n",
       "      <th>...</th>\n",
       "      <th>Free Item</th>\n",
       "      <th>HQ</th>\n",
       "      <th>Sales Team</th>\n",
       "      <th>Return for Reason</th>\n",
       "      <th>Sales Return</th>\n",
       "      <th>Sales Invoice Name</th>\n",
       "      <th>Rate Difference</th>\n",
       "      <th>Item Name</th>\n",
       "      <th>Free Item Value</th>\n",
       "      <th>Date</th>\n",
       "    </tr>\n",
       "  </thead>\n",
       "  <tbody>\n",
       "  </tbody>\n",
       "</table>\n",
       "<p>0 rows × 21 columns</p>\n",
       "</div>"
      ],
      "text/plain": [
       "Empty DataFrame\n",
       "Columns: [Sr, ID, Customer, Primary Sales, Cancelled, Is added to primary log, Against Expiry, Breakage, Claim Offer, Quantity, Net Rate, Free Item, HQ, Sales Team, Return for Reason, Sales Return, Sales Invoice Name, Rate Difference, Item Name, Free Item Value, Date]\n",
       "Index: []\n",
       "\n",
       "[0 rows x 21 columns]"
      ]
     },
     "execution_count": 7,
     "metadata": {},
     "output_type": "execute_result"
    }
   ],
   "source": [
    "# 3. Customer with maximum stock returns in October for Bangalore HQ\n",
    "\n",
    "october_data = data[(data['Date'].dt.month == 10) & (data['Date'].dt.year == 2024)]\n",
    "\n",
    "bangalore_hq_data = october_data[october_data['HQ'] == 'HQ-Bangalore']\n",
    "\n",
    "# max_stock_returns_customer_oct = bangalore_hq_data.groupby('Customer')['Against Expiry'].sum().idxmax()\n",
    "\n",
    "# max_stock_returns_customer_oct\n",
    "bangalore_hq_data\n"
   ]
  },
  {
   "cell_type": "markdown",
   "metadata": {},
   "source": [
    "### 4. Which sales team had the maximum percentage of primary sales returned due to expiry?\n",
    "---"
   ]
  },
  {
   "cell_type": "code",
   "execution_count": 24,
   "metadata": {},
   "outputs": [
    {
     "name": "stdout",
     "output_type": "stream",
     "text": [
      "Sales Team           Aura & Proxima Chennai\n",
      "Against Expiry                   -305792.93\n",
      "Primary Sales                    -305792.93\n",
      "Return_Percentage                     100.0\n",
      "Name: 0, dtype: object\n"
     ]
    }
   ],
   "source": [
    "# Filter data for returns due to expiry\n",
    "expiry_data = data[data['Return for Reason'] == 'Expired']\n",
    "\n",
    "# Group by 'Sales Team' and calculate the return percentage\n",
    "result = (\n",
    "    expiry_data.groupby('Sales Team')\n",
    "    .agg({\n",
    "        'Against Expiry': 'sum',\n",
    "        'Primary Sales': 'sum'\n",
    "    })\n",
    "    .reset_index()\n",
    ")\n",
    "\n",
    "# Add a new column for return percentage\n",
    "result['Return_Percentage'] = (result['Against Expiry'] / result['Primary Sales']) * 100\n",
    "\n",
    "# Find the sales team with the maximum return percentage\n",
    "max_return_team = result.loc[result['Return_Percentage'].idxmax()]\n",
    "\n",
    "# Display the result\n",
    "print(max_return_team)"
   ]
  },
  {
   "cell_type": "markdown",
   "metadata": {},
   "source": [
    "### 5. What percentage of overall primary sales was affected by breakage?\n",
    "---"
   ]
  },
  {
   "cell_type": "code",
   "execution_count": 25,
   "metadata": {},
   "outputs": [
    {
     "data": {
      "text/plain": [
       "np.float64(-0.3892831591996956)"
      ]
     },
     "execution_count": 25,
     "metadata": {},
     "output_type": "execute_result"
    }
   ],
   "source": [
    "# 5. Percentage of overall primary sales affected by breakage\n",
    "\n",
    "total_primary_sales = data['Primary Sales'].sum()\n",
    "\n",
    "total_breakage = data['Breakage'].sum()\n",
    "\n",
    "breakage_percentage = (total_breakage / total_primary_sales) * 100\n",
    "breakage_percentage"
   ]
  },
  {
   "cell_type": "markdown",
   "metadata": {},
   "source": [
    "### 6. Primary sales for Delhi HQ in September\n",
    "---"
   ]
  },
  {
   "cell_type": "markdown",
   "metadata": {},
   "source": [
    "### Note: There is no specific `HQ-Delhi`. If you want to combine all zones in Delhi, the results are shown below."
   ]
  },
  {
   "cell_type": "code",
   "execution_count": 26,
   "metadata": {},
   "outputs": [
    {
     "data": {
      "text/plain": [
       "np.float64(592474.0)"
      ]
     },
     "execution_count": 26,
     "metadata": {},
     "output_type": "execute_result"
    }
   ],
   "source": [
    "# 6. Primary sales for Delhi HQ in September\n",
    "\n",
    "delhi_hq_september_sales = september_data[september_data['Sales Team'] == 'Elbrit Delhi']['Primary Sales'].sum()\n",
    "delhi_hq_september_sales\n"
   ]
  },
  {
   "cell_type": "markdown",
   "metadata": {},
   "source": [
    "### 7. Sales of \"Britorva 20\" for PALEPU PHARMA DIST PVT LTD under Coimbatore HQ in September\n",
    "---"
   ]
  },
  {
   "cell_type": "code",
   "execution_count": 11,
   "metadata": {},
   "outputs": [
    {
     "data": {
      "text/plain": [
       "np.float64(0.0)"
      ]
     },
     "execution_count": 11,
     "metadata": {},
     "output_type": "execute_result"
    }
   ],
   "source": [
    "\n",
    "# 7. Sales of \"Britorva 20\" for PALEPU PHARMA DIST PVT LTD under Coimbatore HQ in September\n",
    "\n",
    "britorva_sales_palepu_coimbatore = september_data[\n",
    "\n",
    "    (september_data['HQ'] == 'HQ-Coimbatore') & \n",
    "\n",
    "    (september_data['Customer'] == 'PALEPU PHARMA DIST PVT LTD') & \n",
    "\n",
    "    (september_data['Item Name'] == 'Britorva 20')\n",
    "\n",
    "]['Primary Sales'].sum()\n",
    "\n",
    "britorva_sales_palepu_coimbatore\n"
   ]
  },
  {
   "cell_type": "code",
   "execution_count": null,
   "metadata": {},
   "outputs": [
    {
     "name": "stdout",
     "output_type": "stream",
     "text": [
      "Historical Monthly Sales:\n",
      "   YearMonth  Primary Sales\n",
      "0 2024-04-01    43944346.66\n",
      "1 2024-05-01    45896730.82\n",
      "2 2024-06-01    47566563.99\n",
      "3 2024-07-01    50067106.19\n",
      "4 2024-08-01    41066121.82\n",
      "5 2024-09-01    41616347.74\n",
      "\n",
      "Forecasted Sales for October and November:\n",
      "2024-10-01    3.989942e+07\n",
      "2024-11-01    3.744539e+07\n",
      "Freq: MS, dtype: float64\n"
     ]
    },
    {
     "name": "stderr",
     "output_type": "stream",
     "text": [
      "e:\\working\\venv\\Lib\\site-packages\\statsmodels\\tsa\\holtwinters\\model.py:918: ConvergenceWarning: Optimization failed to converge. Check mle_retvals.\n",
      "  warnings.warn(\n"
     ]
    }
   ],
   "source": [
    "\n",
    "# Load the dataset\n",
    "file_path = 'ELB-Sales-Data.xlsx'  # Replace with your file path\n",
    "sales_data = pd.read_excel(file_path, sheet_name='Elbrit Sales Log')\n",
    "\n",
    "# Ensure the 'Date' column is in datetime format\n",
    "sales_data['Date'] = pd.to_datetime(sales_data['Date'], errors='coerce')\n",
    "\n",
    "# Filter data to retain only valid rows with 'Primary Sales' and 'Date'\n",
    "sales_data = sales_data.dropna(subset=['Primary Sales', 'Date'])\n",
    "\n",
    "# Extract month and year for aggregation\n",
    "sales_data['YearMonth'] = sales_data['Date'].dt.to_period('M')\n",
    "\n",
    "# Step 1: Aggregate monthly sales\n",
    "monthly_sales = (\n",
    "    sales_data.groupby('YearMonth')['Primary Sales']\n",
    "    .sum()\n",
    "    .reset_index()\n",
    ")\n",
    "monthly_sales['YearMonth'] = monthly_sales['YearMonth'].dt.to_timestamp()\n",
    "\n",
    "# Step 2: Apply Exponential Smoothing for Forecasting\n",
    "# Check if sufficient data is available\n",
    "if len(monthly_sales) < 3:\n",
    "    raise ValueError(\"Insufficient data for forecasting. At least 3 periods are required.\")\n",
    "\n",
    "# Initialize and fit the model\n",
    "model = ExponentialSmoothing(\n",
    "    monthly_sales['Primary Sales'], \n",
    "    trend='add', \n",
    "    seasonal=None, \n",
    "    initialization_method=\"estimated\"\n",
    ")\n",
    "model_fit = model.fit()\n",
    "\n",
    "# Forecast for the next two months (October & November)\n",
    "forecast_periods = 2\n",
    "forecast = model_fit.forecast(steps=forecast_periods)\n",
    "\n",
    "# Output the results\n",
    "forecast.index = pd.date_range(\n",
    "    start=monthly_sales['YearMonth'].iloc[-1] + pd.offsets.MonthBegin(),\n",
    "    periods=forecast_periods,\n",
    "    freq='MS'\n",
    ")\n",
    "\n",
    "print(\"Historical Monthly Sales:\")\n",
    "print(monthly_sales)\n",
    "\n",
    "print(\"\\nForecasted Sales for October and November:\")\n",
    "print(forecast)\n"
   ]
  },
  {
   "cell_type": "code",
   "execution_count": null,
   "metadata": {},
   "outputs": [
    {
     "name": "stdout",
     "output_type": "stream",
     "text": [
      "1. Forecasted Primary Sales for October: 39899423.35804366\n",
      "2. Product with Highest Forecasted Sales for 'CND Chennai' in November: NEURONZ D\n",
      "3. Forecasted Sales of 'Britorva 20' in October under Coimbatore HQ: 39748.982771089286\n"
     ]
    }
   ],
   "source": [
    "\n",
    "\n",
    "\n",
    "# Suppress convergence warnings\n",
    "warnings.filterwarnings(\"ignore\", category=ConvergenceWarning)\n",
    "\n",
    "# Load data\n",
    "file_path = 'ELB-Sales-Data.xlsx'  # Replace with actual file path\n",
    "sales_data = pd.read_excel(file_path, sheet_name='Elbrit Sales Log')\n",
    "\n",
    "# Ensure 'Date' column is in datetime format\n",
    "sales_data['Date'] = pd.to_datetime(sales_data['Date'], errors='coerce')\n",
    "\n",
    "# Drop rows with missing values in relevant columns\n",
    "sales_data = sales_data.dropna(subset=['Primary Sales', 'Date'])\n",
    "\n",
    "# Add a YearMonth column for monthly aggregation\n",
    "sales_data['YearMonth'] = sales_data['Date'].dt.to_period('M')\n",
    "\n",
    "# Forecasted Value of Primary Sales for October\n",
    "monthly_sales = sales_data.groupby('YearMonth', as_index=False)['Primary Sales'].sum()\n",
    "\n",
    "if len(monthly_sales) >= 3:  # Ensure enough data points\n",
    "    model = ExponentialSmoothing(monthly_sales['Primary Sales'], trend='add', seasonal=None)\n",
    "    model_fit = model.fit()\n",
    "    forecast = model_fit.forecast(steps=1)  # Get the forecast as a Series\n",
    "    forecast_primary_sales = forecast.iloc[0] if not forecast.empty else None\n",
    "else:\n",
    "    forecast_primary_sales = None\n",
    "\n",
    "# Product with Highest Forecasted Sales for \"CND Chennai\" in November\n",
    "cnd_chennai_data = sales_data[sales_data['Sales Team'].str.contains('CND Chennai', na=False)]\n",
    "cnd_chennai_monthly = cnd_chennai_data.groupby(['YearMonth', 'Item Name'])['Primary Sales'].sum().unstack()\n",
    "\n",
    "if not cnd_chennai_monthly.empty and len(cnd_chennai_monthly) >= 3:\n",
    "    forecast_cnd = cnd_chennai_monthly.sum(axis=1).iloc[-3:]  # Last 3 months\n",
    "    highest_forecasted_product = cnd_chennai_monthly.sum(axis=0).idxmax()\n",
    "else:\n",
    "    highest_forecasted_product = None\n",
    "\n",
    "# Forecasted Sales of \"Britorva 20\" in October under Coimbatore HQ\n",
    "britorva_data = sales_data[\n",
    "    (sales_data['HQ'].str.contains('Coimbatore', case=False, na=False)) &\n",
    "    (sales_data['Item Name'].str.contains('Britorva 20', case=False, na=False))\n",
    "]\n",
    "britorva_monthly = britorva_data.groupby('YearMonth', as_index=False)['Primary Sales'].sum()\n",
    "\n",
    "if len(britorva_monthly) >= 3:\n",
    "    try:\n",
    "        # Log transformation for better stability\n",
    "        britorva_monthly['Primary Sales'] = np.log1p(britorva_monthly['Primary Sales'])\n",
    "\n",
    "        model_britorva = ExponentialSmoothing(\n",
    "            britorva_monthly['Primary Sales'],\n",
    "            trend='add',\n",
    "            seasonal=None\n",
    "        )\n",
    "        # Fit the model (no maxiter argument needed)\n",
    "        model_britorva_fit = model_britorva.fit()\n",
    "\n",
    "        # Forecast and reverse log transformation\n",
    "        forecast_britorva_log = model_britorva_fit.forecast(steps=1).iloc[0]\n",
    "        forecast_britorva = np.expm1(forecast_britorva_log)\n",
    "\n",
    "    except Exception as e:\n",
    "        print(f\"Error during forecasting: {e}\")\n",
    "        forecast_britorva = None\n",
    "\n",
    "else:\n",
    "    print(\"Insufficient data for forecasting 'Britorva 20' sales.\")\n",
    "    forecast_britorva = None\n",
    "\n",
    "# Print Results\n",
    "print(f\"1. Forecasted Primary Sales for October: {forecast_primary_sales if forecast_primary_sales is not None else 'Not Available'}\")\n",
    "print(f\"2. Product with Highest Forecasted Sales for 'CND Chennai' in November: {highest_forecasted_product if highest_forecasted_product is not None else 'Not Available'}\")\n",
    "print(f\"3. Forecasted Sales of 'Britorva 20' in October under Coimbatore HQ: {forecast_britorva if forecast_britorva is not None else 'Not Available'}\")\n"
   ]
  },
  {
   "cell_type": "code",
   "execution_count": null,
   "metadata": {},
   "outputs": [],
   "source": []
  }
 ],
 "metadata": {
  "kernelspec": {
   "display_name": "venv",
   "language": "python",
   "name": "python3"
  },
  "language_info": {
   "codemirror_mode": {
    "name": "ipython",
    "version": 3
   },
   "file_extension": ".py",
   "mimetype": "text/x-python",
   "name": "python",
   "nbconvert_exporter": "python",
   "pygments_lexer": "ipython3",
   "version": "3.13.0"
  }
 },
 "nbformat": 4,
 "nbformat_minor": 2
}
